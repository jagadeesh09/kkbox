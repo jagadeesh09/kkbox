{
 "cells": [
  {
   "cell_type": "code",
   "execution_count": 1,
   "metadata": {
    "collapsed": true
   },
   "outputs": [],
   "source": [
    "import pandas as pd"
   ]
  },
  {
   "cell_type": "code",
   "execution_count": 2,
   "metadata": {
    "collapsed": true
   },
   "outputs": [],
   "source": [
    "df_members = pd.read_csv('data/members.csv')"
   ]
  },
  {
   "cell_type": "code",
   "execution_count": 3,
   "metadata": {
    "collapsed": true
   },
   "outputs": [],
   "source": [
    "df_songs = pd.read_csv('data/songs.csv')"
   ]
  },
  {
   "cell_type": "code",
   "execution_count": 4,
   "metadata": {
    "collapsed": true
   },
   "outputs": [],
   "source": [
    "df_train = pd.read_csv('data/train.csv')"
   ]
  },
  {
   "cell_type": "code",
   "execution_count": 5,
   "metadata": {},
   "outputs": [
    {
     "data": {
      "text/html": [
       "<div>\n",
       "<style>\n",
       "    .dataframe thead tr:only-child th {\n",
       "        text-align: right;\n",
       "    }\n",
       "\n",
       "    .dataframe thead th {\n",
       "        text-align: left;\n",
       "    }\n",
       "\n",
       "    .dataframe tbody tr th {\n",
       "        vertical-align: top;\n",
       "    }\n",
       "</style>\n",
       "<table border=\"1\" class=\"dataframe\">\n",
       "  <thead>\n",
       "    <tr style=\"text-align: right;\">\n",
       "      <th></th>\n",
       "      <th>song_id</th>\n",
       "      <th>song_length</th>\n",
       "      <th>genre_ids</th>\n",
       "      <th>artist_name</th>\n",
       "      <th>composer</th>\n",
       "      <th>lyricist</th>\n",
       "      <th>language</th>\n",
       "    </tr>\n",
       "  </thead>\n",
       "  <tbody>\n",
       "    <tr>\n",
       "      <th>0</th>\n",
       "      <td>CXoTN1eb7AI+DntdU1vbcwGRV4SCIDxZu+YD8JP8r4E=</td>\n",
       "      <td>247640</td>\n",
       "      <td>465</td>\n",
       "      <td>張信哲 (Jeff Chang)</td>\n",
       "      <td>董貞</td>\n",
       "      <td>何啟弘</td>\n",
       "      <td>3.0</td>\n",
       "    </tr>\n",
       "    <tr>\n",
       "      <th>1</th>\n",
       "      <td>o0kFgae9QtnYgRkVPqLJwa05zIhRlUjfF7O1tDw0ZDU=</td>\n",
       "      <td>197328</td>\n",
       "      <td>444</td>\n",
       "      <td>BLACKPINK</td>\n",
       "      <td>TEDDY|  FUTURE BOUNCE|  Bekuh BOOM</td>\n",
       "      <td>TEDDY</td>\n",
       "      <td>31.0</td>\n",
       "    </tr>\n",
       "    <tr>\n",
       "      <th>2</th>\n",
       "      <td>DwVvVurfpuz+XPuFvucclVQEyPqcpUkHR0ne1RQzPs0=</td>\n",
       "      <td>231781</td>\n",
       "      <td>465</td>\n",
       "      <td>SUPER JUNIOR</td>\n",
       "      <td>NaN</td>\n",
       "      <td>NaN</td>\n",
       "      <td>31.0</td>\n",
       "    </tr>\n",
       "    <tr>\n",
       "      <th>3</th>\n",
       "      <td>dKMBWoZyScdxSkihKG+Vf47nc18N9q4m58+b4e7dSSE=</td>\n",
       "      <td>273554</td>\n",
       "      <td>465</td>\n",
       "      <td>S.H.E</td>\n",
       "      <td>湯小康</td>\n",
       "      <td>徐世珍</td>\n",
       "      <td>3.0</td>\n",
       "    </tr>\n",
       "    <tr>\n",
       "      <th>4</th>\n",
       "      <td>W3bqWd3T+VeHFzHAUfARgW9AvVRaF4N5Yzm4Mr6Eo/o=</td>\n",
       "      <td>140329</td>\n",
       "      <td>726</td>\n",
       "      <td>貴族精選</td>\n",
       "      <td>Traditional</td>\n",
       "      <td>Traditional</td>\n",
       "      <td>52.0</td>\n",
       "    </tr>\n",
       "  </tbody>\n",
       "</table>\n",
       "</div>"
      ],
      "text/plain": [
       "                                        song_id  song_length genre_ids  \\\n",
       "0  CXoTN1eb7AI+DntdU1vbcwGRV4SCIDxZu+YD8JP8r4E=       247640       465   \n",
       "1  o0kFgae9QtnYgRkVPqLJwa05zIhRlUjfF7O1tDw0ZDU=       197328       444   \n",
       "2  DwVvVurfpuz+XPuFvucclVQEyPqcpUkHR0ne1RQzPs0=       231781       465   \n",
       "3  dKMBWoZyScdxSkihKG+Vf47nc18N9q4m58+b4e7dSSE=       273554       465   \n",
       "4  W3bqWd3T+VeHFzHAUfARgW9AvVRaF4N5Yzm4Mr6Eo/o=       140329       726   \n",
       "\n",
       "        artist_name                            composer     lyricist  language  \n",
       "0  張信哲 (Jeff Chang)                                  董貞          何啟弘       3.0  \n",
       "1         BLACKPINK  TEDDY|  FUTURE BOUNCE|  Bekuh BOOM        TEDDY      31.0  \n",
       "2      SUPER JUNIOR                                 NaN          NaN      31.0  \n",
       "3             S.H.E                                 湯小康          徐世珍       3.0  \n",
       "4              貴族精選                         Traditional  Traditional      52.0  "
      ]
     },
     "execution_count": 5,
     "metadata": {},
     "output_type": "execute_result"
    }
   ],
   "source": [
    "df_songs.head()"
   ]
  },
  {
   "cell_type": "code",
   "execution_count": 6,
   "metadata": {},
   "outputs": [
    {
     "data": {
      "text/html": [
       "<div>\n",
       "<style>\n",
       "    .dataframe thead tr:only-child th {\n",
       "        text-align: right;\n",
       "    }\n",
       "\n",
       "    .dataframe thead th {\n",
       "        text-align: left;\n",
       "    }\n",
       "\n",
       "    .dataframe tbody tr th {\n",
       "        vertical-align: top;\n",
       "    }\n",
       "</style>\n",
       "<table border=\"1\" class=\"dataframe\">\n",
       "  <thead>\n",
       "    <tr style=\"text-align: right;\">\n",
       "      <th></th>\n",
       "      <th>song_length</th>\n",
       "      <th>language</th>\n",
       "    </tr>\n",
       "  </thead>\n",
       "  <tbody>\n",
       "    <tr>\n",
       "      <th>count</th>\n",
       "      <td>2.296320e+06</td>\n",
       "      <td>2.296319e+06</td>\n",
       "    </tr>\n",
       "    <tr>\n",
       "      <th>mean</th>\n",
       "      <td>2.469935e+05</td>\n",
       "      <td>3.237800e+01</td>\n",
       "    </tr>\n",
       "    <tr>\n",
       "      <th>std</th>\n",
       "      <td>1.609200e+05</td>\n",
       "      <td>2.433241e+01</td>\n",
       "    </tr>\n",
       "    <tr>\n",
       "      <th>min</th>\n",
       "      <td>1.850000e+02</td>\n",
       "      <td>-1.000000e+00</td>\n",
       "    </tr>\n",
       "    <tr>\n",
       "      <th>25%</th>\n",
       "      <td>1.836000e+05</td>\n",
       "      <td>-1.000000e+00</td>\n",
       "    </tr>\n",
       "    <tr>\n",
       "      <th>50%</th>\n",
       "      <td>2.266270e+05</td>\n",
       "      <td>5.200000e+01</td>\n",
       "    </tr>\n",
       "    <tr>\n",
       "      <th>75%</th>\n",
       "      <td>2.772690e+05</td>\n",
       "      <td>5.200000e+01</td>\n",
       "    </tr>\n",
       "    <tr>\n",
       "      <th>max</th>\n",
       "      <td>1.217385e+07</td>\n",
       "      <td>5.900000e+01</td>\n",
       "    </tr>\n",
       "  </tbody>\n",
       "</table>\n",
       "</div>"
      ],
      "text/plain": [
       "        song_length      language\n",
       "count  2.296320e+06  2.296319e+06\n",
       "mean   2.469935e+05  3.237800e+01\n",
       "std    1.609200e+05  2.433241e+01\n",
       "min    1.850000e+02 -1.000000e+00\n",
       "25%    1.836000e+05 -1.000000e+00\n",
       "50%    2.266270e+05  5.200000e+01\n",
       "75%    2.772690e+05  5.200000e+01\n",
       "max    1.217385e+07  5.900000e+01"
      ]
     },
     "execution_count": 6,
     "metadata": {},
     "output_type": "execute_result"
    }
   ],
   "source": [
    "df_songs.describe()"
   ]
  },
  {
   "cell_type": "code",
   "execution_count": 7,
   "metadata": {},
   "outputs": [
    {
     "data": {
      "text/plain": [
       "dtype('O')"
      ]
     },
     "execution_count": 7,
     "metadata": {},
     "output_type": "execute_result"
    }
   ],
   "source": [
    "df_songs['genre_ids'].dtype"
   ]
  },
  {
   "cell_type": "code",
   "execution_count": 8,
   "metadata": {},
   "outputs": [
    {
     "data": {
      "text/plain": [
       " 52.0    1336694\n",
       "-1.0      639467\n",
       " 3.0      106295\n",
       " 17.0      92518\n",
       " 24.0      41744\n",
       " 31.0      39201\n",
       " 10.0      15482\n",
       " 45.0      14435\n",
       " 59.0       8098\n",
       " 38.0       2385\n",
       "Name: language, dtype: int64"
      ]
     },
     "execution_count": 8,
     "metadata": {},
     "output_type": "execute_result"
    }
   ],
   "source": [
    "df_songs['language'].value_counts()"
   ]
  },
  {
   "cell_type": "code",
   "execution_count": 9,
   "metadata": {},
   "outputs": [
    {
     "data": {
      "text/plain": [
       "Neuromancer                                                                                                                                                            17888\n",
       "Johann Sebastian Bach                                                                                                                                                  12105\n",
       "Wolfgang Amadeus Mozart                                                                                                                                                10839\n",
       "Marco Rinaldo                                                                                                                                                          10803\n",
       "Traditional                                                                                                                                                            10105\n",
       "Ludwig van Beethoven                                                                                                                                                    7290\n",
       "佚名                                                                                                                                                                      6259\n",
       "Sacchetto G.                                                                                                                                                            5479\n",
       "Frédéric Chopin                                                                                                                                                         5468\n",
       "Antonio Vivaldi                                                                                                                                                         3376\n",
       "Unknown                                                                                                                                                                 3334\n",
       "Robert Schumann                                                                                                                                                         3138\n",
       "DR                                                                                                                                                                      3107\n",
       "Johannes Brahms                                                                                                                                                         2903\n",
       "Franz Schubert                                                                                                                                                          2729\n",
       "sacchetto giuliano                                                                                                                                                      2230\n",
       "Falcom Sound Team jdk                                                                                                                                                   2167\n",
       "RR                                                                                                                                                                      2059\n",
       "Pyotr Ilyich Tchaikovsky                                                                                                                                                2045\n",
       "Claude Debussy                                                                                                                                                          1950\n",
       "Giordano Trivellato| sacchetto giuliano                                                                                                                                 1927\n",
       "Cole Porter                                                                                                                                                             1916\n",
       "Rights Reserved                                                                                                                                                         1873\n",
       "Irving Berlin                                                                                                                                                           1753\n",
       "George Frideric Handel                                                                                                                                                  1672\n",
       "Giuseppe Verdi                                                                                                                                                          1655\n",
       "Bob Dylan                                                                                                                                                               1562\n",
       "Giacomo Puccini                                                                                                                                                         1519\n",
       "Ludwig Van Beethoven                                                                                                                                                    1492\n",
       "Felix Mendelssohn                                                                                                                                                       1319\n",
       "                                                                                                                                                                       ...  \n",
       "Philipp Burger                                                                                                                                                             1\n",
       "Miranda Lambert| Aaron Raitiere                                                                                                                                            1\n",
       "Richard Rodgers| Ralph Martino                                                                                                                                             1\n",
       "Dann Bostock| Oakley Moffatt| Tobi Duncan                                                                                                                                  1\n",
       "Dumisane Mwase                                                                                                                                                             1\n",
       "Eladia Blazquez                                                                                                                                                            1\n",
       "Freed| Brown| Kelly                                                                                                                                                        1\n",
       "Jazmyn Michel; Jamal Jones; Chris Brown; India Boodram; Kesia Hollis; Jerome Harmon                                                                                        1\n",
       "Jason Michael Carroll| Tommy Lee James| Terry McBride                                                                                                                      1\n",
       "Burt Bacharach| Carole Bayer Sager| Christopher Cross| P Allen                                                                                                             1\n",
       "D'Angelo| Ali Shaheed Muhammad| Kedar Massenburg| Michael Archer                                                                                                           1\n",
       "Wallber Pinheiro                                                                                                                                                           1\n",
       "Edward Francis Rimbault                                                                                                                                                    1\n",
       "Ebba Forsberg| Kajsa Ribbing                                                                                                                                               1\n",
       "Grant| Elizabeth / Nowels| Rick                                                                                                                                            1\n",
       "Michael Jackson| Louis Johnson                                                                                                                                             1\n",
       "Denys Dombrovan| Tarek Mahmoud                                                                                                                                             1\n",
       "Laurent Hess| André Hornez                                                                                                                                                 1\n",
       "Giuliano Ciabatta| Cesare Pedoni                                                                                                                                           1\n",
       "Rudy Clark| Artie Resnick                                                                                                                                                  1\n",
       "Andrea Etchison                                                                                                                                                            1\n",
       "Limahl|Nakamoto|B Griffin                                                                                                                                                  1\n",
       "V. Trebeljahr                                                                                                                                                              1\n",
       "Akio Sasajima| Henry Mancini                                                                                                                                               1\n",
       "Rollo Armstrong                                                                                                                                                            1\n",
       "Teddy Riley| Lee Hyeon-Seung| Dom| Daniel \"Obi\" Klein| Engelina Larsen                                                                                                     1\n",
       "Jaylene Johnson                                                                                                                                                            1\n",
       "Toto Cutugno| Pasquale Losito                                                                                                                                              1\n",
       "Brooks Bowman/Cole Porter/Kay Swift/Alberto Dominguez/Sunny Clapp/James Kendis/Frank Samuels/Meyer Gusman/Curley Williams/Hugh Williams/Oliver Wallace/Harold Weeks        1\n",
       "Maceo Pinkard|William Tracey|Doris Tauber                                                                                                                                  1\n",
       "Name: composer, Length: 329824, dtype: int64"
      ]
     },
     "execution_count": 9,
     "metadata": {},
     "output_type": "execute_result"
    }
   ],
   "source": [
    "df_songs['composer'].value_counts()"
   ]
  },
  {
   "cell_type": "code",
   "execution_count": null,
   "metadata": {
    "collapsed": true
   },
   "outputs": [],
   "source": [
    "#df_songs['genre_ids'].value_counts()\n",
    "composer_list = []\n",
    "df_songs = df_songs.fillna('')\n",
    "for composer in df_songs['composer']:\n",
    "    user_genre_list = genre_id.split('|')\n",
    "    for u_g in user_genre_list:\n",
    "        if u_g not in genre_list:\n",
    "            genre_list.append(u_g)\n",
    "    "
   ]
  },
  {
   "cell_type": "code",
   "execution_count": 10,
   "metadata": {},
   "outputs": [
    {
     "data": {
      "text/plain": [
       "69180"
      ]
     },
     "execution_count": 10,
     "metadata": {},
     "output_type": "execute_result"
    }
   ],
   "source": [
    "import numpy as np\n",
    "np.sum(df_songs['lyricist'].value_counts() == 1)"
   ]
  },
  {
   "cell_type": "code",
   "execution_count": 45,
   "metadata": {},
   "outputs": [],
   "source": [
    "#df_songs['genre_ids'].value_counts()\n",
    "genre_list = []\n",
    "df_songs = df_songs.fillna('')\n",
    "for genre_id in df_songs['genre_ids']:\n",
    "    user_genre_list = genre_id.split('|')\n",
    "    for u_g in user_genre_list:\n",
    "        if u_g not in genre_list:\n",
    "            genre_list.append(u_g)\n",
    "    "
   ]
  },
  {
   "cell_type": "code",
   "execution_count": 46,
   "metadata": {},
   "outputs": [
    {
     "data": {
      "text/plain": [
       "192"
      ]
     },
     "execution_count": 46,
     "metadata": {},
     "output_type": "execute_result"
    }
   ],
   "source": [
    "len(genre_list)"
   ]
  },
  {
   "cell_type": "code",
   "execution_count": 49,
   "metadata": {},
   "outputs": [
    {
     "data": {
      "text/plain": [
       "14"
      ]
     },
     "execution_count": 49,
     "metadata": {},
     "output_type": "execute_result"
    }
   ],
   "source": [
    "genre_list.index('')"
   ]
  },
  {
   "cell_type": "code",
   "execution_count": 50,
   "metadata": {},
   "outputs": [
    {
     "data": {
      "text/plain": [
       "['465',\n",
       " '444',\n",
       " '726',\n",
       " '864',\n",
       " '857',\n",
       " '850',\n",
       " '843',\n",
       " '458',\n",
       " '352',\n",
       " '1995',\n",
       " '2157',\n",
       " '359',\n",
       " '1609',\n",
       " '139',\n",
       " '',\n",
       " '873',\n",
       " '1955',\n",
       " '1011',\n",
       " '2022',\n",
       " '2122',\n",
       " '786',\n",
       " '947',\n",
       " '242',\n",
       " '1259',\n",
       " '921',\n",
       " '2107',\n",
       " '958',\n",
       " '880',\n",
       " '481',\n",
       " '125',\n",
       " '109',\n",
       " '798',\n",
       " '451',\n",
       " '1152',\n",
       " '940',\n",
       " '1082',\n",
       " '545',\n",
       " '437',\n",
       " '829',\n",
       " '430',\n",
       " '1969',\n",
       " '388',\n",
       " '94',\n",
       " '1572',\n",
       " '275',\n",
       " '409',\n",
       " '893',\n",
       " '1616',\n",
       " '712',\n",
       " '2130',\n",
       " '2086',\n",
       " '374',\n",
       " '1568',\n",
       " '1138',\n",
       " '474',\n",
       " '1180',\n",
       " '1068',\n",
       " '423',\n",
       " '184',\n",
       " '744',\n",
       " '691',\n",
       " '2189',\n",
       " '367',\n",
       " '719',\n",
       " '2072',\n",
       " '1977',\n",
       " '402',\n",
       " '1287',\n",
       " '2079',\n",
       " '822',\n",
       " '2058',\n",
       " '1155',\n",
       " '1633',\n",
       " '310',\n",
       " '900',\n",
       " '191',\n",
       " '2109',\n",
       " '1280',\n",
       " '2093',\n",
       " '1630',\n",
       " '118',\n",
       " '663',\n",
       " '1208',\n",
       " '2100',\n",
       " '1944',\n",
       " '1103',\n",
       " '381',\n",
       " '331',\n",
       " '1096',\n",
       " '509',\n",
       " '1040',\n",
       " '1047',\n",
       " '1981',\n",
       " '698',\n",
       " '516',\n",
       " '907',\n",
       " '102',\n",
       " '1598',\n",
       " '2032',\n",
       " '1273',\n",
       " '1145',\n",
       " '212',\n",
       " '972',\n",
       " '2213',\n",
       " '1026',\n",
       " '1110',\n",
       " '177',\n",
       " '2215',\n",
       " '205',\n",
       " '986',\n",
       " '2144',\n",
       " '2176',\n",
       " '1605',\n",
       " '1019',\n",
       " '95',\n",
       " '1054',\n",
       " '2248',\n",
       " '1162',\n",
       " '965',\n",
       " '198',\n",
       " '531',\n",
       " '1988',\n",
       " '2116',\n",
       " '993',\n",
       " '751',\n",
       " '488',\n",
       " '808',\n",
       " '765',\n",
       " '2052',\n",
       " '2194',\n",
       " '1169',\n",
       " '282',\n",
       " '416',\n",
       " '2065',\n",
       " '2245',\n",
       " '656',\n",
       " '1201',\n",
       " '1124',\n",
       " '2029',\n",
       " '1033',\n",
       " '979',\n",
       " '1007',\n",
       " '2045',\n",
       " '289',\n",
       " '2183',\n",
       " '2206',\n",
       " '502',\n",
       " '338',\n",
       " '303',\n",
       " '1131',\n",
       " '1089',\n",
       " '1266',\n",
       " '670',\n",
       " '252',\n",
       " '2238',\n",
       " '2008',\n",
       " '296',\n",
       " '2172',\n",
       " '2219',\n",
       " '317',\n",
       " '677',\n",
       " '815',\n",
       " '649',\n",
       " '2191',\n",
       " '779',\n",
       " '1187',\n",
       " '2015',\n",
       " '1194',\n",
       " '1000',\n",
       " '1965',\n",
       " '2127',\n",
       " '1061',\n",
       " '152',\n",
       " '1117',\n",
       " '87',\n",
       " '538',\n",
       " '132',\n",
       " '2192',\n",
       " '2150',\n",
       " '1949',\n",
       " '159',\n",
       " '166',\n",
       " '758',\n",
       " '2154',\n",
       " '495',\n",
       " '2168',\n",
       " '324',\n",
       " '2163',\n",
       " '1579',\n",
       " '2002',\n",
       " '2175',\n",
       " '1970']"
      ]
     },
     "execution_count": 50,
     "metadata": {},
     "output_type": "execute_result"
    }
   ],
   "source": [
    "#I have to replace empty values in the genre"
   ]
  },
  {
   "cell_type": "code",
   "execution_count": 12,
   "metadata": {},
   "outputs": [
    {
     "data": {
      "text/html": [
       "<div>\n",
       "<style>\n",
       "    .dataframe thead tr:only-child th {\n",
       "        text-align: right;\n",
       "    }\n",
       "\n",
       "    .dataframe thead th {\n",
       "        text-align: left;\n",
       "    }\n",
       "\n",
       "    .dataframe tbody tr th {\n",
       "        vertical-align: top;\n",
       "    }\n",
       "</style>\n",
       "<table border=\"1\" class=\"dataframe\">\n",
       "  <thead>\n",
       "    <tr style=\"text-align: right;\">\n",
       "      <th></th>\n",
       "      <th>msno</th>\n",
       "      <th>city</th>\n",
       "      <th>bd</th>\n",
       "      <th>gender</th>\n",
       "      <th>registered_via</th>\n",
       "      <th>registration_init_time</th>\n",
       "      <th>expiration_date</th>\n",
       "    </tr>\n",
       "  </thead>\n",
       "  <tbody>\n",
       "    <tr>\n",
       "      <th>0</th>\n",
       "      <td>XQxgAYj3klVKjR3oxPPXYYFp4soD4TuBghkhMTD4oTw=</td>\n",
       "      <td>1</td>\n",
       "      <td>0</td>\n",
       "      <td>NaN</td>\n",
       "      <td>7</td>\n",
       "      <td>20110820</td>\n",
       "      <td>20170920</td>\n",
       "    </tr>\n",
       "    <tr>\n",
       "      <th>1</th>\n",
       "      <td>UizsfmJb9mV54qE9hCYyU07Va97c0lCRLEQX3ae+ztM=</td>\n",
       "      <td>1</td>\n",
       "      <td>0</td>\n",
       "      <td>NaN</td>\n",
       "      <td>7</td>\n",
       "      <td>20150628</td>\n",
       "      <td>20170622</td>\n",
       "    </tr>\n",
       "    <tr>\n",
       "      <th>2</th>\n",
       "      <td>D8nEhsIOBSoE6VthTaqDX8U6lqjJ7dLdr72mOyLya2A=</td>\n",
       "      <td>1</td>\n",
       "      <td>0</td>\n",
       "      <td>NaN</td>\n",
       "      <td>4</td>\n",
       "      <td>20160411</td>\n",
       "      <td>20170712</td>\n",
       "    </tr>\n",
       "    <tr>\n",
       "      <th>3</th>\n",
       "      <td>mCuD+tZ1hERA/o5GPqk38e041J8ZsBaLcu7nGoIIvhI=</td>\n",
       "      <td>1</td>\n",
       "      <td>0</td>\n",
       "      <td>NaN</td>\n",
       "      <td>9</td>\n",
       "      <td>20150906</td>\n",
       "      <td>20150907</td>\n",
       "    </tr>\n",
       "    <tr>\n",
       "      <th>4</th>\n",
       "      <td>q4HRBfVSssAFS9iRfxWrohxuk9kCYMKjHOEagUMV6rQ=</td>\n",
       "      <td>1</td>\n",
       "      <td>0</td>\n",
       "      <td>NaN</td>\n",
       "      <td>4</td>\n",
       "      <td>20170126</td>\n",
       "      <td>20170613</td>\n",
       "    </tr>\n",
       "  </tbody>\n",
       "</table>\n",
       "</div>"
      ],
      "text/plain": [
       "                                           msno  city  bd gender  \\\n",
       "0  XQxgAYj3klVKjR3oxPPXYYFp4soD4TuBghkhMTD4oTw=     1   0    NaN   \n",
       "1  UizsfmJb9mV54qE9hCYyU07Va97c0lCRLEQX3ae+ztM=     1   0    NaN   \n",
       "2  D8nEhsIOBSoE6VthTaqDX8U6lqjJ7dLdr72mOyLya2A=     1   0    NaN   \n",
       "3  mCuD+tZ1hERA/o5GPqk38e041J8ZsBaLcu7nGoIIvhI=     1   0    NaN   \n",
       "4  q4HRBfVSssAFS9iRfxWrohxuk9kCYMKjHOEagUMV6rQ=     1   0    NaN   \n",
       "\n",
       "   registered_via  registration_init_time  expiration_date  \n",
       "0               7                20110820         20170920  \n",
       "1               7                20150628         20170622  \n",
       "2               4                20160411         20170712  \n",
       "3               9                20150906         20150907  \n",
       "4               4                20170126         20170613  "
      ]
     },
     "execution_count": 12,
     "metadata": {},
     "output_type": "execute_result"
    }
   ],
   "source": [
    "df_members.head()"
   ]
  },
  {
   "cell_type": "code",
   "execution_count": 13,
   "metadata": {},
   "outputs": [
    {
     "data": {
      "text/plain": [
       "dtype('int64')"
      ]
     },
     "execution_count": 13,
     "metadata": {},
     "output_type": "execute_result"
    }
   ],
   "source": [
    "df_members['registration_init_time'].dtype"
   ]
  },
  {
   "cell_type": "code",
   "execution_count": null,
   "metadata": {
    "collapsed": true
   },
   "outputs": [],
   "source": []
  },
  {
   "cell_type": "code",
   "execution_count": null,
   "metadata": {
    "collapsed": true
   },
   "outputs": [],
   "source": []
  },
  {
   "cell_type": "code",
   "execution_count": 14,
   "metadata": {
    "collapsed": true
   },
   "outputs": [],
   "source": [
    "df_members['registration_init_time'] = df_members['registration_init_time'].astype('str')\n",
    "df_members['reg_year'] = df_members['registration_init_time'].apply(lambda x: x[0:4]).astype('int64')\n",
    "df_members['reg_month'] = df_members['registration_init_time'].apply(lambda x: x[4:6]).astype('int64')\n",
    "df_members['reg_date'] = df_members['registration_init_time'].apply(lambda x: x[6:]).astype('int64')"
   ]
  },
  {
   "cell_type": "code",
   "execution_count": 15,
   "metadata": {
    "collapsed": true
   },
   "outputs": [],
   "source": [
    "df_members['expiration_date'] = df_members['expiration_date'].astype('str')\n",
    "df_members['exp_year'] = df_members['expiration_date'].apply(lambda x: x[0:4]).astype('int64')\n",
    "df_members['exp_month'] = df_members['expiration_date'].apply(lambda x: x[4:6]).astype('int64')\n",
    "df_members['exp_date'] = df_members['expiration_date'].apply(lambda x: x[6:]).astype('int64')"
   ]
  },
  {
   "cell_type": "code",
   "execution_count": 16,
   "metadata": {},
   "outputs": [
    {
     "data": {
      "text/plain": [
       "<matplotlib.axes._subplots.AxesSubplot at 0x7fd49a7c0ad0>"
      ]
     },
     "execution_count": 16,
     "metadata": {},
     "output_type": "execute_result"
    },
    {
     "data": {
      "image/png": "[encoded data removed]",
      "text/plain": [
       "<matplotlib.figure.Figure at 0x7fd49a7c02d0>"
      ]
     },
     "metadata": {},
     "output_type": "display_data"
    }
   ],
   "source": [
    "import seaborn as sns\n",
    "import matplotlib.pyplot as plt\n",
    "%matplotlib inline\n",
    "sns.barplot(x=df_members['reg_month'])"
   ]
  },
  {
   "cell_type": "code",
   "execution_count": 17,
   "metadata": {},
   "outputs": [
    {
     "data": {
      "text/html": [
       "<div>\n",
       "<style>\n",
       "    .dataframe thead tr:only-child th {\n",
       "        text-align: right;\n",
       "    }\n",
       "\n",
       "    .dataframe thead th {\n",
       "        text-align: left;\n",
       "    }\n",
       "\n",
       "    .dataframe tbody tr th {\n",
       "        vertical-align: top;\n",
       "    }\n",
       "</style>\n",
       "<table border=\"1\" class=\"dataframe\">\n",
       "  <thead>\n",
       "    <tr style=\"text-align: right;\">\n",
       "      <th></th>\n",
       "      <th>msno</th>\n",
       "      <th>song_id</th>\n",
       "      <th>source_system_tab</th>\n",
       "      <th>source_screen_name</th>\n",
       "      <th>source_type</th>\n",
       "      <th>target</th>\n",
       "    </tr>\n",
       "  </thead>\n",
       "  <tbody>\n",
       "    <tr>\n",
       "      <th>0</th>\n",
       "      <td>FGtllVqz18RPiwJj/edr2gV78zirAiY/9SmYvia+kCg=</td>\n",
       "      <td>BBzumQNXUHKdEBOB7mAJuzok+IJA1c2Ryg/yzTF6tik=</td>\n",
       "      <td>explore</td>\n",
       "      <td>Explore</td>\n",
       "      <td>online-playlist</td>\n",
       "      <td>1</td>\n",
       "    </tr>\n",
       "    <tr>\n",
       "      <th>1</th>\n",
       "      <td>Xumu+NIjS6QYVxDS4/t3SawvJ7viT9hPKXmf0RtLNx8=</td>\n",
       "      <td>bhp/MpSNoqoxOIB+/l8WPqu6jldth4DIpCm3ayXnJqM=</td>\n",
       "      <td>my library</td>\n",
       "      <td>Local playlist more</td>\n",
       "      <td>local-playlist</td>\n",
       "      <td>1</td>\n",
       "    </tr>\n",
       "    <tr>\n",
       "      <th>2</th>\n",
       "      <td>Xumu+NIjS6QYVxDS4/t3SawvJ7viT9hPKXmf0RtLNx8=</td>\n",
       "      <td>JNWfrrC7zNN7BdMpsISKa4Mw+xVJYNnxXh3/Epw7QgY=</td>\n",
       "      <td>my library</td>\n",
       "      <td>Local playlist more</td>\n",
       "      <td>local-playlist</td>\n",
       "      <td>1</td>\n",
       "    </tr>\n",
       "    <tr>\n",
       "      <th>3</th>\n",
       "      <td>Xumu+NIjS6QYVxDS4/t3SawvJ7viT9hPKXmf0RtLNx8=</td>\n",
       "      <td>2A87tzfnJTSWqD7gIZHisolhe4DMdzkbd6LzO1KHjNs=</td>\n",
       "      <td>my library</td>\n",
       "      <td>Local playlist more</td>\n",
       "      <td>local-playlist</td>\n",
       "      <td>1</td>\n",
       "    </tr>\n",
       "    <tr>\n",
       "      <th>4</th>\n",
       "      <td>FGtllVqz18RPiwJj/edr2gV78zirAiY/9SmYvia+kCg=</td>\n",
       "      <td>3qm6XTZ6MOCU11x8FIVbAGH5l5uMkT3/ZalWG1oo2Gc=</td>\n",
       "      <td>explore</td>\n",
       "      <td>Explore</td>\n",
       "      <td>online-playlist</td>\n",
       "      <td>1</td>\n",
       "    </tr>\n",
       "  </tbody>\n",
       "</table>\n",
       "</div>"
      ],
      "text/plain": [
       "                                           msno  \\\n",
       "0  FGtllVqz18RPiwJj/edr2gV78zirAiY/9SmYvia+kCg=   \n",
       "1  Xumu+NIjS6QYVxDS4/t3SawvJ7viT9hPKXmf0RtLNx8=   \n",
       "2  Xumu+NIjS6QYVxDS4/t3SawvJ7viT9hPKXmf0RtLNx8=   \n",
       "3  Xumu+NIjS6QYVxDS4/t3SawvJ7viT9hPKXmf0RtLNx8=   \n",
       "4  FGtllVqz18RPiwJj/edr2gV78zirAiY/9SmYvia+kCg=   \n",
       "\n",
       "                                        song_id source_system_tab  \\\n",
       "0  BBzumQNXUHKdEBOB7mAJuzok+IJA1c2Ryg/yzTF6tik=           explore   \n",
       "1  bhp/MpSNoqoxOIB+/l8WPqu6jldth4DIpCm3ayXnJqM=        my library   \n",
       "2  JNWfrrC7zNN7BdMpsISKa4Mw+xVJYNnxXh3/Epw7QgY=        my library   \n",
       "3  2A87tzfnJTSWqD7gIZHisolhe4DMdzkbd6LzO1KHjNs=        my library   \n",
       "4  3qm6XTZ6MOCU11x8FIVbAGH5l5uMkT3/ZalWG1oo2Gc=           explore   \n",
       "\n",
       "    source_screen_name      source_type  target  \n",
       "0              Explore  online-playlist       1  \n",
       "1  Local playlist more   local-playlist       1  \n",
       "2  Local playlist more   local-playlist       1  \n",
       "3  Local playlist more   local-playlist       1  \n",
       "4              Explore  online-playlist       1  "
      ]
     },
     "execution_count": 17,
     "metadata": {},
     "output_type": "execute_result"
    }
   ],
   "source": [
    "df_train.head()"
   ]
  },
  {
   "cell_type": "code",
   "execution_count": 18,
   "metadata": {},
   "outputs": [
    {
     "data": {
      "text/plain": [
       "1     19445\n",
       "13     3395\n",
       "5      2634\n",
       "4      1732\n",
       "15     1525\n",
       "22     1467\n",
       "6       913\n",
       "14      708\n",
       "12      491\n",
       "9       309\n",
       "8       289\n",
       "11      285\n",
       "18      259\n",
       "10      216\n",
       "21      213\n",
       "3       204\n",
       "17      152\n",
       "7        93\n",
       "16       35\n",
       "20       27\n",
       "19       11\n",
       "Name: city, dtype: int64"
      ]
     },
     "execution_count": 18,
     "metadata": {},
     "output_type": "execute_result"
    }
   ],
   "source": [
    "df_members['city'].value_counts()"
   ]
  },
  {
   "cell_type": "code",
   "execution_count": 19,
   "metadata": {},
   "outputs": [
    {
     "data": {
      "text/plain": [
       "4     11392\n",
       "7      9433\n",
       "9      8628\n",
       "3      4879\n",
       "13       70\n",
       "16        1\n",
       "Name: registered_via, dtype: int64"
      ]
     },
     "execution_count": 19,
     "metadata": {},
     "output_type": "execute_result"
    }
   ],
   "source": [
    "df_members['registered_via'].value_counts()"
   ]
  },
  {
   "cell_type": "code",
   "execution_count": 20,
   "metadata": {},
   "outputs": [
    {
     "data": {
      "text/plain": [
       "(34403, 13)"
      ]
     },
     "execution_count": 20,
     "metadata": {},
     "output_type": "execute_result"
    }
   ],
   "source": [
    "df_members.shape"
   ]
  },
  {
   "cell_type": "code",
   "execution_count": 21,
   "metadata": {},
   "outputs": [
    {
     "data": {
      "text/plain": [
       "male      7405\n",
       "female    7096\n",
       "Name: gender, dtype: int64"
      ]
     },
     "execution_count": 21,
     "metadata": {},
     "output_type": "execute_result"
    }
   ],
   "source": [
    "df_members['gender'].value_counts()"
   ]
  },
  {
   "cell_type": "code",
   "execution_count": 22,
   "metadata": {},
   "outputs": [
    {
     "data": {
      "text/plain": [
       "19902"
      ]
     },
     "execution_count": 22,
     "metadata": {},
     "output_type": "execute_result"
    }
   ],
   "source": [
    "df_members['gender'].isnull().sum()"
   ]
  },
  {
   "cell_type": "code",
   "execution_count": 23,
   "metadata": {},
   "outputs": [
    {
     "data": {
      "text/plain": [
       " 0       19932\n",
       " 22        751\n",
       " 27        750\n",
       " 24        740\n",
       " 26        719\n",
       " 25        716\n",
       " 23        712\n",
       " 28        688\n",
       " 21        685\n",
       " 29        661\n",
       " 20        631\n",
       " 30        602\n",
       " 19        507\n",
       " 31        491\n",
       " 32        466\n",
       " 18        466\n",
       " 33        416\n",
       " 34        404\n",
       " 17        398\n",
       " 35        380\n",
       " 36        341\n",
       " 37        300\n",
       " 38        294\n",
       " 39        226\n",
       " 16        215\n",
       " 40        204\n",
       " 41        194\n",
       " 44        138\n",
       " 42        131\n",
       " 43        121\n",
       "         ...  \n",
       " 102         2\n",
       " 131         1\n",
       " 78          1\n",
       " 85          1\n",
       " 3           1\n",
       " 2           1\n",
       " 1051        1\n",
       " 97          1\n",
       " 144         1\n",
       " 93          1\n",
       " 96          1\n",
       "-43          1\n",
       " 82          1\n",
       " 931         1\n",
       " 106         1\n",
       " 76          1\n",
       " 87          1\n",
       " 101         1\n",
       " 90          1\n",
       " 70          1\n",
       " 1030        1\n",
       " 7           1\n",
       " 12          1\n",
       " 103         1\n",
       "-38          1\n",
       " 89          1\n",
       " 107         1\n",
       " 10          1\n",
       " 11          1\n",
       " 95          1\n",
       "Name: bd, Length: 95, dtype: int64"
      ]
     },
     "execution_count": 23,
     "metadata": {},
     "output_type": "execute_result"
    }
   ],
   "source": [
    "df_members['bd'].value_counts()"
   ]
  },
  {
   "cell_type": "code",
   "execution_count": 24,
   "metadata": {},
   "outputs": [
    {
     "data": {
      "text/plain": [
       "reXuGcEWDDCnL0K3Th//3DFG4S1ACSpJMzA+CFipo1g=    13973\n",
       "T86YHdD4C9JSc274b1IlMkLuNdz4BQRB50fWWE7hx9g=    13293\n",
       "wBTWuHbjdjxnG1lQcbqnK4FddV24rUhuyrYLd9c/hmk=    13079\n",
       "FynUyq0+drmIARmK1JZ/qcjNZ7DKkqTY6/0O0lTzNUI=    12855\n",
       "PgRtmmESVNtWjoZHO5a1r21vIz9sVZmcJJpFCbRa1LI=    12004\n",
       "YN4T/yvvXtYrBVN8KTnieiQohHL3T9fnzUkbLWcgLro=    11835\n",
       "M9rAajz4dYuRhZ7jLvf9RRayVA3os61X/XXHEuW4giA=    11745\n",
       "U9kojfZSKaiWOW94PKh1Riyv/zUWxmBRmv0XInQWLGw=    11521\n",
       "43Qm2YzsP99P5wm37B1JIhezUcQ/1CDjYlQx6rBbz2U=    11131\n",
       "cy10N2j2sdY/X4BDUcMu2Iumfz7pV3tqE5iEaup2yGI=    10791\n",
       "J4qKkLIoW7aYACuTupHLAPZYmRp08en1AEux+GSUzdw=    10565\n",
       "750RprmFfLV0bymtDH88g24pLZGVi5VpBAI300P6UOA=    10500\n",
       "+SstqMwhQPBQFTPBhLKPT642IiBDXzZFwlzsLl4cGXo=     9908\n",
       "IKMFuL0f5Y8c63Hg9BXkeNJjE0z8yf3gMt/tOxF4QNE=     9844\n",
       "v/3onppBGoSpGsWb8iaCIO8eX5+iacbH5a4ZUhT7N54=     9736\n",
       "DLBDZhOoW7zd7GBV99bi92ZXYUS26lzV+jJKbHshP5c=     9244\n",
       "p/yR06j/RQ2J6yGCFL0K+1R06OeG+eXcwxRgOHDo/Tk=     9038\n",
       "Xpjwi8UAE2Vv9PZ6cZnhc58MCtl3cKZEO1sdAkqJ4mo=     8883\n",
       "8Ckw1wek5d6oEsNUoM4P5iag86TaEmyLwdtrckL0Re8=     8851\n",
       "BITuBuNyXQydJcjDL2BUnCu4/IXaJg5IPOuycc/4dtY=     8845\n",
       "n+pMhj/jpCnpiUcSDl4k3i9FJODDddEXmpE48/HczTI=     8775\n",
       "BgqjNqzsyCpEGvxyUmktvHC8WO5+FQO/pQTaZ4broMU=     8725\n",
       "OaEbZ6TJ1NePtNUeEgWsvFLeopkSln9WQu8PBR5B3+A=     8658\n",
       "3VkD5ekIf5duJm1hmYTZlXjyl0zqV8wCzuAh3uocfCg=     8428\n",
       "/70HjygVDhHsKBoV8mmsBg/WduSgs4+Zg6GfzhUQbdk=     8381\n",
       "fEAIgFRWmhXmo6m3ukQeqRksZCcO/7CjkqNckRHiVQo=     8313\n",
       "WL4ipO3Mx9pxd4FMs69ha6o9541+fLeOow67Qkrfnro=     8296\n",
       "fCCmIa0Y5m+MCGbQga31MOLTIqi7ddgXvkjFPmfslGw=     8177\n",
       "VkDBgh89umc9m6uAEfD6LXngetyGhln4vh/ArCGO0nY=     8062\n",
       "L6w2d0w84FjTvFr+BhMfgu7dZAsGiOqUGmvvxIG3gvQ=     7878\n",
       "                                                ...  \n",
       "D54H6NPuRwRvHZssk+WZosQt1fWKvJ3ukH06WdJ69lk=        1\n",
       "QoFNIN90jrvwcvWeSpK7moJ1L5MamFIxT0+6wA6yQ4Y=        1\n",
       "aLChO50MTcZOfEBWDwWZTjuPeMwA7l8oaDjaC3vIALk=        1\n",
       "hEvrQV2OkUhJqJHIOaDTbIXsurQTye3WICjbEJLzj08=        1\n",
       "RvNy2BuIOlgKC3I3Tu+QaI6YKFAcGefLfK7/irunzPA=        1\n",
       "5qzWU+vhcHHvrDhVskDqSt1JxyB+yI5L6ac+bHFXFYg=        1\n",
       "6UgxidLLIHHRKpTWmp4QMjFq1Wak10eUTwbYQ0afS+A=        1\n",
       "5nRNn4dca6duJJ8ncPeSN9PAk/xEL3fpZ9Ck++dHlkg=        1\n",
       "rXaqXWR6uGtumbDItN6fIf/2NJmsbE660sKWvs1HluE=        1\n",
       "mk8f5G3ba+IDNmBCq2EISmQWUcVBmtkkSuLw0RN8Vzk=        1\n",
       "HHyMjR5wdMeJ5kNv/8P0U70EmrfC23L5USmK+Y0FFIs=        1\n",
       "5SGWSixrjpY09HG7HzE03H81a8B6Fl3DDhd2Ep98HJw=        1\n",
       "bFt0dH23Pd43vMLNZevKH2mV4Rl8pJ+y5hnbIV9AYkw=        1\n",
       "w850E8YQqvSxxF2Itd18UDMELFrmLD4VhFtK2WHV3Dc=        1\n",
       "WKgw+3cAQtLndFAD03JQl8X0UA+ekE8EzXUpLPN3SHA=        1\n",
       "YS3e+sPbfslgl0bXJL40dhyJiay68n1SFC5lZsmT3po=        1\n",
       "nxcrQvkQ1xsyMsJa1tYypguG3uM+LgUNt/bxRamjha8=        1\n",
       "q6hbNiyVTEqKdUme4qRUwCWC0ABP4xbfT0Dfb0Gog0k=        1\n",
       "YSkMnt5zMqLLGLrhLR5Y1OmjfB9U05CCEWzsCUv7BI0=        1\n",
       "F60JqB8OxM1brBteHvLih4WGAM/IE5BfSoQa2TaUguA=        1\n",
       "XyqDcx0q4ZofLeb2MTaQSv8RKxzwGOG8aYht32wOT/E=        1\n",
       "C8vvuGMm2r6HK2otS4HLMmJB9f8dyE9GTtoLiadWZBc=        1\n",
       "Ep7/OAfd7B1kFwyat9Dy063/dy2qndwMcVjs0Xiwvy8=        1\n",
       "88jR8MqIaroYf+N0g1fA7V9LqElOKU+6oxxndUmmlHg=        1\n",
       "mcBCjdmu3qahgfxmDBS1o/cam6EHq71RoOLCRlaMjbA=        1\n",
       "o0n4tZvMv+07L8OBWY/VpQCGNTwWguL0k9LMBsb9viM=        1\n",
       "OjWzi+niwKEATkm/o7WJ38Y1h0SUYxdsuccnzDXWBN4=        1\n",
       "S5gCu41BXseUrgQ27xUzQ0dK61Q27kD86iTY39y54+0=        1\n",
       "M9/pqtyy90wNV3knFAEsnw/ZKLXVSxGZursrY8BylH0=        1\n",
       "EK9JqtReruZ5HsQ06BBrBpOQLeurfS+sEhGYxnK0H+E=        1\n",
       "Name: song_id, Length: 359966, dtype: int64"
      ]
     },
     "execution_count": 24,
     "metadata": {},
     "output_type": "execute_result"
    }
   ],
   "source": [
    "df_train['song_id'].value_counts()"
   ]
  },
  {
   "cell_type": "code",
   "execution_count": 25,
   "metadata": {},
   "outputs": [
    {
     "data": {
      "text/plain": [
       "my library      3684730\n",
       "discover        2179252\n",
       "search           623286\n",
       "radio            476701\n",
       "listen with      212266\n",
       "explore          167949\n",
       "null               6478\n",
       "notification       6185\n",
       "settings           2200\n",
       "Name: source_system_tab, dtype: int64"
      ]
     },
     "execution_count": 25,
     "metadata": {},
     "output_type": "execute_result"
    }
   ],
   "source": [
    "df_train['source_system_tab'].value_counts()"
   ]
  },
  {
   "cell_type": "code",
   "execution_count": 26,
   "metadata": {},
   "outputs": [
    {
     "data": {
      "text/plain": [
       "local-library             2261399\n",
       "online-playlist           1967924\n",
       "local-playlist            1079503\n",
       "radio                      483109\n",
       "album                      477344\n",
       "top-hits-for-artist        423614\n",
       "song                       244722\n",
       "song-based-playlist        210527\n",
       "listen-with                192842\n",
       "topic-article-playlist      11194\n",
       "artist                       3038\n",
       "my-daily-playlist             663\n",
       "Name: source_type, dtype: int64"
      ]
     },
     "execution_count": 26,
     "metadata": {},
     "output_type": "execute_result"
    }
   ],
   "source": [
    "df_train['source_type'].value_counts()"
   ]
  },
  {
   "cell_type": "code",
   "execution_count": 27,
   "metadata": {},
   "outputs": [
    {
     "data": {
      "text/plain": [
       "(7377418, 6)"
      ]
     },
     "execution_count": 27,
     "metadata": {},
     "output_type": "execute_result"
    }
   ],
   "source": [
    "df_train.shape"
   ]
  },
  {
   "cell_type": "code",
   "execution_count": 29,
   "metadata": {},
   "outputs": [
    {
     "data": {
      "text/html": [
       "<div>\n",
       "<style>\n",
       "    .dataframe thead tr:only-child th {\n",
       "        text-align: right;\n",
       "    }\n",
       "\n",
       "    .dataframe thead th {\n",
       "        text-align: left;\n",
       "    }\n",
       "\n",
       "    .dataframe tbody tr th {\n",
       "        vertical-align: top;\n",
       "    }\n",
       "</style>\n",
       "<table border=\"1\" class=\"dataframe\">\n",
       "  <thead>\n",
       "    <tr style=\"text-align: right;\">\n",
       "      <th></th>\n",
       "      <th>msno</th>\n",
       "      <th>song_id</th>\n",
       "      <th>source_system_tab</th>\n",
       "      <th>source_screen_name</th>\n",
       "      <th>source_type</th>\n",
       "      <th>target</th>\n",
       "    </tr>\n",
       "  </thead>\n",
       "  <tbody>\n",
       "    <tr>\n",
       "      <th>0</th>\n",
       "      <td>FGtllVqz18RPiwJj/edr2gV78zirAiY/9SmYvia+kCg=</td>\n",
       "      <td>BBzumQNXUHKdEBOB7mAJuzok+IJA1c2Ryg/yzTF6tik=</td>\n",
       "      <td>explore</td>\n",
       "      <td>Explore</td>\n",
       "      <td>online-playlist</td>\n",
       "      <td>1</td>\n",
       "    </tr>\n",
       "    <tr>\n",
       "      <th>1</th>\n",
       "      <td>Xumu+NIjS6QYVxDS4/t3SawvJ7viT9hPKXmf0RtLNx8=</td>\n",
       "      <td>bhp/MpSNoqoxOIB+/l8WPqu6jldth4DIpCm3ayXnJqM=</td>\n",
       "      <td>my library</td>\n",
       "      <td>Local playlist more</td>\n",
       "      <td>local-playlist</td>\n",
       "      <td>1</td>\n",
       "    </tr>\n",
       "    <tr>\n",
       "      <th>2</th>\n",
       "      <td>Xumu+NIjS6QYVxDS4/t3SawvJ7viT9hPKXmf0RtLNx8=</td>\n",
       "      <td>JNWfrrC7zNN7BdMpsISKa4Mw+xVJYNnxXh3/Epw7QgY=</td>\n",
       "      <td>my library</td>\n",
       "      <td>Local playlist more</td>\n",
       "      <td>local-playlist</td>\n",
       "      <td>1</td>\n",
       "    </tr>\n",
       "    <tr>\n",
       "      <th>3</th>\n",
       "      <td>Xumu+NIjS6QYVxDS4/t3SawvJ7viT9hPKXmf0RtLNx8=</td>\n",
       "      <td>2A87tzfnJTSWqD7gIZHisolhe4DMdzkbd6LzO1KHjNs=</td>\n",
       "      <td>my library</td>\n",
       "      <td>Local playlist more</td>\n",
       "      <td>local-playlist</td>\n",
       "      <td>1</td>\n",
       "    </tr>\n",
       "    <tr>\n",
       "      <th>4</th>\n",
       "      <td>FGtllVqz18RPiwJj/edr2gV78zirAiY/9SmYvia+kCg=</td>\n",
       "      <td>3qm6XTZ6MOCU11x8FIVbAGH5l5uMkT3/ZalWG1oo2Gc=</td>\n",
       "      <td>explore</td>\n",
       "      <td>Explore</td>\n",
       "      <td>online-playlist</td>\n",
       "      <td>1</td>\n",
       "    </tr>\n",
       "    <tr>\n",
       "      <th>5</th>\n",
       "      <td>FGtllVqz18RPiwJj/edr2gV78zirAiY/9SmYvia+kCg=</td>\n",
       "      <td>3Hg5kugV1S0wzEVLAEfqjIV5UHzb7bCrdBRQlGygLvU=</td>\n",
       "      <td>explore</td>\n",
       "      <td>Explore</td>\n",
       "      <td>online-playlist</td>\n",
       "      <td>1</td>\n",
       "    </tr>\n",
       "    <tr>\n",
       "      <th>6</th>\n",
       "      <td>Xumu+NIjS6QYVxDS4/t3SawvJ7viT9hPKXmf0RtLNx8=</td>\n",
       "      <td>VkILU0H1h3NMmk9MQrXouNudGk5n8Ls5cqRRuBxeTh4=</td>\n",
       "      <td>my library</td>\n",
       "      <td>Local playlist more</td>\n",
       "      <td>local-playlist</td>\n",
       "      <td>1</td>\n",
       "    </tr>\n",
       "    <tr>\n",
       "      <th>7</th>\n",
       "      <td>FGtllVqz18RPiwJj/edr2gV78zirAiY/9SmYvia+kCg=</td>\n",
       "      <td>bPIvRTzfHxH5LgHrStll+tYwSQNVV8PySgA3M1PfTgc=</td>\n",
       "      <td>explore</td>\n",
       "      <td>Explore</td>\n",
       "      <td>online-playlist</td>\n",
       "      <td>1</td>\n",
       "    </tr>\n",
       "    <tr>\n",
       "      <th>8</th>\n",
       "      <td>uHqAtShXTRXju5GE8ri3ITsVFepPf8jUoCF7ffNOuqE=</td>\n",
       "      <td>/bU6IRSK+YNlNbaTkxo7bhsb2EDLPrnksdX3ggcZNhI=</td>\n",
       "      <td>my library</td>\n",
       "      <td>Local playlist more</td>\n",
       "      <td>local-library</td>\n",
       "      <td>1</td>\n",
       "    </tr>\n",
       "    <tr>\n",
       "      <th>9</th>\n",
       "      <td>uHqAtShXTRXju5GE8ri3ITsVFepPf8jUoCF7ffNOuqE=</td>\n",
       "      <td>EbI7xoNxI+3QSsiHxL13zBdgHIJOwa3srHd7cDcnJ0g=</td>\n",
       "      <td>my library</td>\n",
       "      <td>Local playlist more</td>\n",
       "      <td>local-library</td>\n",
       "      <td>1</td>\n",
       "    </tr>\n",
       "  </tbody>\n",
       "</table>\n",
       "</div>"
      ],
      "text/plain": [
       "                                           msno  \\\n",
       "0  FGtllVqz18RPiwJj/edr2gV78zirAiY/9SmYvia+kCg=   \n",
       "1  Xumu+NIjS6QYVxDS4/t3SawvJ7viT9hPKXmf0RtLNx8=   \n",
       "2  Xumu+NIjS6QYVxDS4/t3SawvJ7viT9hPKXmf0RtLNx8=   \n",
       "3  Xumu+NIjS6QYVxDS4/t3SawvJ7viT9hPKXmf0RtLNx8=   \n",
       "4  FGtllVqz18RPiwJj/edr2gV78zirAiY/9SmYvia+kCg=   \n",
       "5  FGtllVqz18RPiwJj/edr2gV78zirAiY/9SmYvia+kCg=   \n",
       "6  Xumu+NIjS6QYVxDS4/t3SawvJ7viT9hPKXmf0RtLNx8=   \n",
       "7  FGtllVqz18RPiwJj/edr2gV78zirAiY/9SmYvia+kCg=   \n",
       "8  uHqAtShXTRXju5GE8ri3ITsVFepPf8jUoCF7ffNOuqE=   \n",
       "9  uHqAtShXTRXju5GE8ri3ITsVFepPf8jUoCF7ffNOuqE=   \n",
       "\n",
       "                                        song_id source_system_tab  \\\n",
       "0  BBzumQNXUHKdEBOB7mAJuzok+IJA1c2Ryg/yzTF6tik=           explore   \n",
       "1  bhp/MpSNoqoxOIB+/l8WPqu6jldth4DIpCm3ayXnJqM=        my library   \n",
       "2  JNWfrrC7zNN7BdMpsISKa4Mw+xVJYNnxXh3/Epw7QgY=        my library   \n",
       "3  2A87tzfnJTSWqD7gIZHisolhe4DMdzkbd6LzO1KHjNs=        my library   \n",
       "4  3qm6XTZ6MOCU11x8FIVbAGH5l5uMkT3/ZalWG1oo2Gc=           explore   \n",
       "5  3Hg5kugV1S0wzEVLAEfqjIV5UHzb7bCrdBRQlGygLvU=           explore   \n",
       "6  VkILU0H1h3NMmk9MQrXouNudGk5n8Ls5cqRRuBxeTh4=        my library   \n",
       "7  bPIvRTzfHxH5LgHrStll+tYwSQNVV8PySgA3M1PfTgc=           explore   \n",
       "8  /bU6IRSK+YNlNbaTkxo7bhsb2EDLPrnksdX3ggcZNhI=        my library   \n",
       "9  EbI7xoNxI+3QSsiHxL13zBdgHIJOwa3srHd7cDcnJ0g=        my library   \n",
       "\n",
       "    source_screen_name      source_type  target  \n",
       "0              Explore  online-playlist       1  \n",
       "1  Local playlist more   local-playlist       1  \n",
       "2  Local playlist more   local-playlist       1  \n",
       "3  Local playlist more   local-playlist       1  \n",
       "4              Explore  online-playlist       1  \n",
       "5              Explore  online-playlist       1  \n",
       "6  Local playlist more   local-playlist       1  \n",
       "7              Explore  online-playlist       1  \n",
       "8  Local playlist more    local-library       1  \n",
       "9  Local playlist more    local-library       1  "
      ]
     },
     "execution_count": 29,
     "metadata": {},
     "output_type": "execute_result"
    }
   ],
   "source": [
    "df_train.head(10)"
   ]
  },
  {
   "cell_type": "code",
   "execution_count": 35,
   "metadata": {},
   "outputs": [],
   "source": [
    "unique_things =df_train['song_id'].unique()"
   ]
  },
  {
   "cell_type": "code",
   "execution_count": 36,
   "metadata": {},
   "outputs": [
    {
     "data": {
      "text/plain": [
       "359966"
      ]
     },
     "execution_count": 36,
     "metadata": {},
     "output_type": "execute_result"
    }
   ],
   "source": [
    "len(unique_things)"
   ]
  },
  {
   "cell_type": "code",
   "execution_count": null,
   "metadata": {
    "collapsed": true
   },
   "outputs": [],
   "source": []
  }
 ],
 "metadata": {
  "kernelspec": {
   "display_name": "Python 2",
   "language": "python",
   "name": "python2"
  },
  "language_info": {
   "codemirror_mode": {
    "name": "ipython",
    "version": 2
   },
   "file_extension": ".py",
   "mimetype": "text/x-python",
   "name": "python",
   "nbconvert_exporter": "python",
   "pygments_lexer": "ipython2",
   "version": "2.7.12"
  }
 },
 "nbformat": 4,
 "nbformat_minor": 2
}
